{
 "cells": [
  {
   "cell_type": "code",
   "execution_count": 1,
   "metadata": {},
   "outputs": [],
   "source": [
    "import pickle\n",
    "import csv\n",
    "import timeit\n",
    "import random"
   ]
  },
  {
   "cell_type": "code",
   "execution_count": 2,
   "metadata": {},
   "outputs": [],
   "source": [
    "#TF-IDF\n",
    "from sklearn.feature_extraction.text import CountVectorizer\n",
    "from sklearn.metrics.pairwise import cosine_similarity\n",
    "from sklearn.feature_extraction.text import TfidfVectorizer\n",
    "import numpy as np"
   ]
  },
  {
   "cell_type": "code",
   "execution_count": 3,
   "metadata": {},
   "outputs": [],
   "source": [
    "csv_file_path = \"DataSet/data.csv\"\n",
    "    \n",
    "tfidf_vectorizer_pickle_path = \"tfidf_vectorizer.pickle\"\n",
    "tfidf_matrix_train_pickle_path = \"tfidf_matrix_train.pickle\""
   ]
  },
  {
   "cell_type": "code",
   "execution_count": 9,
   "metadata": {},
   "outputs": [],
   "source": [
    "def load_csv():\n",
    "    #load dataset data into sentences array\n",
    "    with open(csv_file_path, \"r\") as sentences_on_file:\n",
    "        reader = csv.reader(sentences_on_file, delimiter = \",\")\n",
    "        for row in reader:\n",
    "            sentences.append(row[0])\n",
    "            i += 1\n",
    "        print (sentences)"
   ]
  },
  {
   "cell_type": "code",
   "execution_count": 10,
   "metadata": {},
   "outputs": [],
   "source": [
    "def talk_to_bot_primary(test_sentence):\n",
    "    i=0\n",
    "    #array to store dataset values row-wise \n",
    "    sentences = []\n",
    "    #enter test sentence\n",
    "    test_set = (test_sentence, \"\")\n",
    "\n",
    "    #for indexes\n",
    "    sentences.append(\" No You.\") \n",
    "    sentences.append(\" No You.\")\n",
    "\n",
    "    try:\n",
    "        ##------------ to use ---------------##\n",
    "        # first load dimension space\n",
    "        f = open(tfidf_vectorizer_pickle_path, 'rb')\n",
    "        tfidf_vectorizer = pickle.load(f)\n",
    "        f.close()\n",
    "\n",
    "        # then load tf-idf of dataset\n",
    "        f = open(tfidf_matrix_train_pickle_path, 'rb')\n",
    "        tfidf_matrix_train = pickle.load(f)\n",
    "        f.close()\n",
    "        # ----------------------------------------#\n",
    "    except:\n",
    "        ##------------ to train -------------##\n",
    "        #variable to see how much time it takes to train\n",
    "        start = timeit.default_timer()\n",
    "        \n",
    "        load_csv(csv_file_path)\n",
    "\n",
    "        # now we would start on with training, create a tfidfvectorizer object\n",
    "        tfidf_vectorizer = TfidfVectorizer()\n",
    "\n",
    "        # 1- identify dimension of the space\n",
    "        # 2- learn tf-idf of the dataset, both actions are performed here\n",
    "        tfidf_matrix_train = tfidf_vectorizer.fit_transform(sentences)\n",
    "\n",
    "        # record time that it finished training\n",
    "        stop = timeit.default_timer()\n",
    "        print (\"training time took was : \")\n",
    "        print (stop - start)\n",
    "\n",
    "        # then we would save these 2 objs (dimension space and tf-idf to temp files)\n",
    "        # we use pickle lib\n",
    "\n",
    "        # first save dimension space\n",
    "        f = open(tfidf_vectorizer_pickle_path, 'wb')\n",
    "        pickle.dump(tfidf_vectorizer, f)\n",
    "        f.close()\n",
    "\n",
    "        # then save tf-idf of dataset\n",
    "        f = open(tfidf_matrix_train_pickle_path, 'wb')\n",
    "        pickle.dump(tfidf_matrix_train, f)\n",
    "        f.close()\n",
    "        # -----------------------------------------#\n",
    "    \n",
    "    # use the learnt dimension space\n",
    "    # to run TF-IDF on the query\n",
    "    tfidf_matrix_test = tfidf_vectorizer.transform(test_set)\n",
    "\n",
    "    # then run cosine similarity between the 2 tf-idfs\n",
    "    cosine = cosine_similarity(tfidf_matrix_test, tfidf_matrix_train)\n",
    "    cosine = np.delete(cosine, 0)\n",
    "    \n",
    "    # then get the max score\n",
    "    max = cosine.max()\n",
    "    response_index = 0\n",
    "  \n",
    "  \n",
    "    # if score is more than 0.7\n",
    "    if (max > 0.7): \n",
    "        # we can afford to get multiple high score documents to choose from\n",
    "        new_max = max - 0.01\n",
    "\n",
    "        # load them to a list\n",
    "        list = np.where(cosine > new_max)\n",
    "\n",
    "        # choose a random one to return to the user \n",
    "        # this happens to make bot answers differently to same sentence\n",
    "        response_index = random.choice(list[0])\n",
    "\n",
    "    else:\n",
    "        # else we would simply return the highest score\n",
    "        response_index = np.where(cosine == max)[0][0] + 2 \n",
    "       \n",
    "\n",
    "    j = 0\n",
    "\n",
    "    # loop to return the next cell on the row , ( the response cell )\n",
    "    with open(csv_file_path, \"r\") as sentences_file:\n",
    "        reader = csv.reader(sentences_file, delimiter=',')\n",
    "        for row in reader:\n",
    "            j += 1  # we begin with 1 not 0 &    j is initialized by 0\n",
    "            if j == response_index:\n",
    "                return row[1], response_index,\n",
    "                break"
   ]
  },
  {
   "cell_type": "code",
   "execution_count": null,
   "metadata": {},
   "outputs": [
    {
     "name": "stdout",
     "output_type": "stream",
     "text": [
      "talk to bot : what is your name\n",
      "my name is Lina, but you can call me lina \n",
      "talk to bot : how are you? \n",
      "i'm fine !  did you rest well ?\n",
      "talk to bot : no\n",
      ": d yo le tengo miedo a los cordones de las zapatillas sin anudar.   pueden ser peligrosos !\n",
      "talk to bot : it is bad\n",
      "ow  why is that ?  if you what to share\n",
      "talk to bot : i am ired\n",
      "good !   do you speak english ?\n",
      "talk to bot : yes\n",
      "do you want to listen to some music i wrote ?  \n",
      "talk to bot : maybe\n",
      "do you have other opinion ?\n",
      "talk to bot : no\n",
      " hahaha\n"
     ]
    }
   ],
   "source": [
    "while 1:\n",
    "    sentence = input(\"talk to bot : \")\n",
    "\n",
    "    response_primary, line_id_primary = talk_to_bot_primary(sentence)\n",
    "    print (response_primary)\n",
    "    print"
   ]
  }
 ],
 "metadata": {
  "kernelspec": {
   "display_name": "Python 3",
   "language": "python",
   "name": "python3"
  },
  "language_info": {
   "codemirror_mode": {
    "name": "ipython",
    "version": 3
   },
   "file_extension": ".py",
   "mimetype": "text/x-python",
   "name": "python",
   "nbconvert_exporter": "python",
   "pygments_lexer": "ipython3",
   "version": "3.7.3"
  }
 },
 "nbformat": 4,
 "nbformat_minor": 2
}
