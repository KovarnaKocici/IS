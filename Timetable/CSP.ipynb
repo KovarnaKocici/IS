{
 "cells": [
  {
   "cell_type": "code",
   "execution_count": 1,
   "metadata": {},
   "outputs": [],
   "source": [
    "import time\n",
    "from CSP import Schedule\n",
    "from IPython.display import HTML, display"
   ]
  },
  {
   "cell_type": "code",
   "execution_count": 2,
   "metadata": {},
   "outputs": [],
   "source": [
    "weekdays = [\"Monday\", \"Tuesday\", \"Wednesday\", \"Thursday\", \"Friday\"]\n",
    "\n",
    "courses = [\"Calculus III\", \"Measure th.\", \"Num. analysis\", \"Computability th.\", \"DEs\", \"SDEs\"]\n",
    "\n",
    "faculty = [\"Prof. Molodtzov\", \"Prof. Semenov\", \"Prof. Kashpur\",\n",
    "           \"Prof. Schkilinyak\", \"Prof. Khartchenko\", \"Prof. Rozora\"]\n",
    "\n",
    "groups = [\"TTP\", \"MI\", \"TK\"]"
   ]
  },
  {
   "cell_type": "markdown",
   "metadata": {},
   "source": [
    "## Heuristics"
   ]
  },
  {
   "cell_type": "markdown",
   "metadata": {},
   "source": [
    "* Degree Heuristic\n",
    "* Minimum remaining value\n",
    "* Least Constraining Value\n",
    "* Forward Checking\n",
    "* Constraint Propagation"
   ]
  },
  {
   "cell_type": "code",
   "execution_count": 9,
   "metadata": {},
   "outputs": [],
   "source": [
    "csp = Schedule(groups, courses, faculty, weekdays)"
   ]
  },
  {
   "cell_type": "code",
   "execution_count": 10,
   "metadata": {},
   "outputs": [
    {
     "name": "stdout",
     "output_type": "stream",
     "text": [
      "Start!\n",
      "Success! Time spent: 0.3974952697753906 s.\n",
      "Constraints checked 45 times!\n"
     ]
    }
   ],
   "source": [
    "print(\"Start!\")\n",
    "start = time.time()\n",
    "csp.backtracking()\n",
    "print(f\"Success! Time spent: {time.time() - start} s.\")\n",
    "print(f\"Constraints checked {csp.cnt} times!\")"
   ]
  },
  {
   "cell_type": "code",
   "execution_count": 11,
   "metadata": {},
   "outputs": [
    {
     "data": {
      "text/html": [
       "<table>\n",
       "<tbody>\n",
       "<tr><td>Day  </td><td>Monday</td><td>  </td><td>  </td><td></td><td>Tuesday</td><td>  </td><td>  </td><td></td><td>Wednesday</td><td>  </td><td>  </td><td></td><td>Thursday</td><td>  </td><td>  </td><td></td><td>Friday</td><td>  </td><td>  </td><td></td></tr>\n",
       "<tr><td>Group</td><td>TTP   </td><td>MI</td><td>TK</td><td></td><td>TTP    </td><td>MI</td><td>TK</td><td></td><td>TTP      </td><td>MI</td><td>TK</td><td></td><td>TTP     </td><td>MI</td><td>TK</td><td></td><td>TTP   </td><td>MI</td><td>TK</td><td></td></tr>\n",
       "<tr><td>1    </td><td>Calculus III\n",
       "(lab)\n",
       "Room: R3\n",
       "Prof.: Prof. Schkilinyak       </td><td>Num. analysis\n",
       "(lec)\n",
       "Room: R2\n",
       "Prof.: Prof. Kashpur   </td><td>Num. analysis\n",
       "(lab)\n",
       "Room: R5\n",
       "Prof.: Prof. Semenov   </td><td></td><td>DEs\n",
       "(lab)\n",
       "Room: R1\n",
       "Prof.: Prof. Molodtzov        </td><td>SDEs\n",
       "(lec)\n",
       "Room: R4\n",
       "Prof.: Prof. Semenov   </td><td>Computability th.\n",
       "(lab)\n",
       "Room: R5\n",
       "Prof.: Prof. Schkilinyak   </td><td></td><td>DEs\n",
       "(lec)\n",
       "Room: R2\n",
       "Prof.: Prof. Semenov          </td><td>Measure th.\n",
       "(lab)\n",
       "Room: R1\n",
       "Prof.: Prof. Molodtzov   </td><td>Calculus III\n",
       "(lec)\n",
       "Room: R4\n",
       "Prof.: Prof. Schkilinyak   </td><td></td><td>Measure th.\n",
       "(lec)\n",
       "Room: R4\n",
       "Prof.: Prof. Kashpur         </td><td>Measure th.\n",
       "(lec)\n",
       "Room: R2\n",
       "Prof.: Prof. Schkilinyak   </td><td>Calculus III\n",
       "(lab)\n",
       "Room: R3\n",
       "Prof.: Prof. Molodtzov   </td><td></td><td>DEs\n",
       "(lab)\n",
       "Room: R3\n",
       "Prof.: Prof. Kashpur       </td><td>Measure th.\n",
       "(lec)\n",
       "Room: R4\n",
       "Prof.: Prof. Molodtzov   </td><td>Calculus III\n",
       "(lec)\n",
       "Room: R2\n",
       "Prof.: Prof. Schkilinyak   </td><td></td></tr>\n",
       "<tr><td>2    </td><td>Measure th.\n",
       "(lec)\n",
       "Room: R2\n",
       "Prof.: Prof. Kashpur       </td><td>Measure th.\n",
       "(lec)\n",
       "Room: R4\n",
       "Prof.: Prof. Molodtzov   </td><td>Computability th.\n",
       "(lab)\n",
       "Room: R3\n",
       "Prof.: Prof. Schkilinyak   </td><td></td><td>Measure th.\n",
       "(lec)\n",
       "Room: R4\n",
       "Prof.: Prof. Kashpur        </td><td>Measure th.\n",
       "(lab)\n",
       "Room: R1\n",
       "Prof.: Prof. Schkilinyak   </td><td>Num. analysis\n",
       "(lec)\n",
       "Room: R2\n",
       "Prof.: Prof. Semenov   </td><td></td><td>Measure th.\n",
       "(lab)\n",
       "Room: R3\n",
       "Prof.: Prof. Molodtzov          </td><td>SDEs\n",
       "(lec)\n",
       "Room: R2\n",
       "Prof.: Prof. Semenov   </td><td>Num. analysis\n",
       "(lab)\n",
       "Room: R1\n",
       "Prof.: Prof. Kashpur   </td><td></td><td>Calculus III\n",
       "(lec)\n",
       "Room: R2\n",
       "Prof.: Prof. Schkilinyak         </td><td>Num. analysis\n",
       "(lec)\n",
       "Room: R4\n",
       "Prof.: Prof. Kashpur   </td><td>Computability th.\n",
       "(lab)\n",
       "Room: R1\n",
       "Prof.: Prof. Molodtzov   </td><td></td><td>Measure th.\n",
       "(lab)\n",
       "Room: R1\n",
       "Prof.: Prof. Schkilinyak       </td><td>SDEs\n",
       "(lab)\n",
       "Room: R5\n",
       "Prof.: Prof. Semenov   </td><td>Calculus III\n",
       "(lab)\n",
       "Room: R3\n",
       "Prof.: Prof. Molodtzov   </td><td></td></tr>\n",
       "<tr><td>3    </td><td>DEs\n",
       "(lec)\n",
       "Room: R2\n",
       "Prof.: Prof. Kashpur       </td><td>SDEs\n",
       "(lec)\n",
       "Room: R4\n",
       "Prof.: Prof. Semenov   </td><td>Computability th.\n",
       "(lab)\n",
       "Room: R5\n",
       "Prof.: Prof. Schkilinyak   </td><td></td><td>Measure th.\n",
       "(lab)\n",
       "Room: R5\n",
       "Prof.: Prof. Molodtzov        </td><td>Measure th.\n",
       "(lab)\n",
       "Room: R1\n",
       "Prof.: Prof. Semenov   </td><td>Computability th.\n",
       "(lec)\n",
       "Room: R2\n",
       "Prof.: Prof. Schkilinyak   </td><td></td><td>Calculus III\n",
       "(lab)\n",
       "Room: R1\n",
       "Prof.: Prof. Molodtzov          </td><td>Measure th.\n",
       "(lec)\n",
       "Room: R2\n",
       "Prof.: Prof. Schkilinyak   </td><td>Num. analysis\n",
       "(lec)\n",
       "Room: R4\n",
       "Prof.: Prof. Kashpur   </td><td></td><td>Measure th.\n",
       "(lec)\n",
       "Room: R4\n",
       "Prof.: Prof. Schkilinyak         </td><td>Num. analysis\n",
       "(lec)\n",
       "Room: R2\n",
       "Prof.: Prof. Semenov   </td><td>Computability th.\n",
       "(lab)\n",
       "Room: R1\n",
       "Prof.: Prof. Molodtzov   </td><td></td><td>Measure th.\n",
       "(lec)\n",
       "Room: R2\n",
       "Prof.: Prof. Kashpur       </td><td>Num. analysis\n",
       "(lab)\n",
       "Room: R3\n",
       "Prof.: Prof. Semenov   </td><td>Calculus III\n",
       "(lec)\n",
       "Room: R4\n",
       "Prof.: Prof. Molodtzov   </td><td></td></tr>\n",
       "</tbody>\n",
       "</table>"
      ],
      "text/plain": [
       "<IPython.core.display.HTML object>"
      ]
     },
     "metadata": {},
     "output_type": "display_data"
    }
   ],
   "source": [
    "display(HTML(csp.print()))"
   ]
  },
  {
   "cell_type": "code",
   "execution_count": null,
   "metadata": {},
   "outputs": [],
   "source": []
  }
 ],
 "metadata": {
  "kernelspec": {
   "display_name": "Python 3",
   "language": "python",
   "name": "python3"
  },
  "language_info": {
   "codemirror_mode": {
    "name": "ipython",
    "version": 3
   },
   "file_extension": ".py",
   "mimetype": "text/x-python",
   "name": "python",
   "nbconvert_exporter": "python",
   "pygments_lexer": "ipython3",
   "version": "3.6.5"
  }
 },
 "nbformat": 4,
 "nbformat_minor": 2
}
